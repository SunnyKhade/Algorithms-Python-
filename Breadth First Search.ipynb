{
 "cells": [
  {
   "cell_type": "markdown",
   "metadata": {},
   "source": [
    "### Breadth First Search"
   ]
  },
  {
   "cell_type": "code",
   "execution_count": 6,
   "metadata": {},
   "outputs": [
    {
     "name": "stdout",
     "output_type": "stream",
     "text": [
      "[9, 4, 20, 1, 6, 15, 170]\n"
     ]
    }
   ],
   "source": [
    "class Node:\n",
    "    def __init__(self,val):\n",
    "        self.val = val\n",
    "        self.left = None\n",
    "        self.right = None\n",
    "\n",
    "class BinarySearchTree:\n",
    "    def __init__(self):\n",
    "        self.root = None\n",
    "  \n",
    "    def insert(self,val):\n",
    "        new_node = Node(val)\n",
    "        if self.root == None:\n",
    "            self.root = new_node\n",
    "            return \n",
    "        temp = self.root\n",
    "        while True:\n",
    "            if new_node.val < temp.val:\n",
    "                if temp.left == None:\n",
    "                    temp.left = new_node\n",
    "                    break\n",
    "                else:\n",
    "                    temp = temp.left\n",
    "            elif new_node.val > temp.val:\n",
    "                if temp.right == None:\n",
    "                    temp.right = new_node\n",
    "                    break\n",
    "                else:\n",
    "                    temp = temp.right\n",
    "\n",
    "    def lookup(self,val):\n",
    "        temp = self.root\n",
    "        while True:\n",
    "            if temp.val == val:\n",
    "                return True\n",
    "            elif temp == None:\n",
    "                return False\n",
    "            elif val < temp.val:\n",
    "                temp = temp.left\n",
    "            elif val > temp.val:\n",
    "                temp = temp.right\n",
    "                \n",
    "    def breadthfirstsearch(self):\n",
    "        currnode=self.root\n",
    "        mylist=[]\n",
    "        queue=[]\n",
    "        queue.append(currnode)\n",
    "        \n",
    "        while len(queue)>0:\n",
    "            currnode=queue[0]\n",
    "            del queue[0]\n",
    "            mylist.append(currnode.val)\n",
    "            if currnode.left:\n",
    "                queue.append(currnode.left)\n",
    "            if currnode.right:\n",
    "                queue.append(currnode.right)\n",
    "        \n",
    "        return mylist\n",
    "    \n",
    "bst = BinarySearchTree()\n",
    "bst.insert(9)\n",
    "bst.insert(4)\n",
    "bst.insert(6)\n",
    "bst.insert(20)\n",
    "bst.insert(170)\n",
    "bst.insert(15)\n",
    "bst.insert(1)\n",
    "\n",
    "print(bst.breadthfirstsearch())        "
   ]
  }
 ],
 "metadata": {
  "kernelspec": {
   "display_name": "Python 3",
   "language": "python",
   "name": "python3"
  },
  "language_info": {
   "codemirror_mode": {
    "name": "ipython",
    "version": 3
   },
   "file_extension": ".py",
   "mimetype": "text/x-python",
   "name": "python",
   "nbconvert_exporter": "python",
   "pygments_lexer": "ipython3",
   "version": "3.8.3"
  }
 },
 "nbformat": 4,
 "nbformat_minor": 4
}
