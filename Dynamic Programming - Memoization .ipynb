{
 "cells": [
  {
   "cell_type": "markdown",
   "metadata": {},
   "source": [
    "### Without Memoization "
   ]
  },
  {
   "cell_type": "code",
   "execution_count": 1,
   "metadata": {},
   "outputs": [
    {
     "name": "stdout",
     "output_type": "stream",
     "text": [
      "Long Time\n",
      "85\n",
      "Long Time\n",
      "85\n"
     ]
    }
   ],
   "source": [
    "def add80(n):\n",
    "    print('Long Time')\n",
    "    return n + 80\n",
    "\n",
    "print(add80(5))\n",
    "print(add80(5))"
   ]
  },
  {
   "cell_type": "markdown",
   "metadata": {},
   "source": [
    "### Memoization 1"
   ]
  },
  {
   "cell_type": "code",
   "execution_count": 16,
   "metadata": {},
   "outputs": [
    {
     "name": "stdout",
     "output_type": "stream",
     "text": [
      "Long Time\n",
      "90\n",
      "90\n"
     ]
    }
   ],
   "source": [
    "cache = {}\n",
    "\n",
    "def memoizedadd80(n):\n",
    "    if n in cache:\n",
    "        return cache[n]\n",
    "    \n",
    "    else:\n",
    "        print('Long Time')\n",
    "        cache[n]=n+80\n",
    "        return cache[n]\n",
    "    \n",
    "print(memoizedadd80(10))\n",
    "print(memoizedadd80(10))"
   ]
  },
  {
   "cell_type": "markdown",
   "metadata": {},
   "source": [
    "### Memoization 2"
   ]
  },
  {
   "cell_type": "code",
   "execution_count": 20,
   "metadata": {},
   "outputs": [
    {
     "name": "stdout",
     "output_type": "stream",
     "text": [
      "Long Time\n",
      "95\n",
      "95\n"
     ]
    }
   ],
   "source": [
    "def memoizedAdd80():\n",
    "    cache={}\n",
    "    \n",
    "    def memoize(n):\n",
    "        if n in cache:\n",
    "            return cache[n]\n",
    "    \n",
    "        else:\n",
    "            print('Long Time')\n",
    "            cache[n]=n+80\n",
    "            return cache[n]\n",
    "    return memoize\n",
    "\n",
    "memo = memoizedAdd80()\n",
    "print(memo(15))\n",
    "print(memo(15))    "
   ]
  },
  {
   "cell_type": "markdown",
   "metadata": {},
   "source": [
    "### Memoization 3"
   ]
  },
  {
   "cell_type": "code",
   "execution_count": 9,
   "metadata": {},
   "outputs": [],
   "source": [
    "from functools import lru_cache"
   ]
  },
  {
   "cell_type": "code",
   "execution_count": 15,
   "metadata": {},
   "outputs": [
    {
     "name": "stdout",
     "output_type": "stream",
     "text": [
      "87\n",
      "87\n",
      "CacheInfo(hits=1, misses=1, maxsize=1000, currsize=1)\n"
     ]
    }
   ],
   "source": [
    "@lru_cache(maxsize=1000)\n",
    "def Memoizedadd80(n):\n",
    "    return n+80\n",
    "\n",
    "print(Memoizedadd80(7))\n",
    "print(Memoizedadd80(7))\n",
    "print(Memoizedadd80.cache_info())     "
   ]
  },
  {
   "cell_type": "code",
   "execution_count": null,
   "metadata": {},
   "outputs": [],
   "source": []
  }
 ],
 "metadata": {
  "kernelspec": {
   "display_name": "Python 3",
   "language": "python",
   "name": "python3"
  },
  "language_info": {
   "codemirror_mode": {
    "name": "ipython",
    "version": 3
   },
   "file_extension": ".py",
   "mimetype": "text/x-python",
   "name": "python",
   "nbconvert_exporter": "python",
   "pygments_lexer": "ipython3",
   "version": "3.8.3"
  }
 },
 "nbformat": 4,
 "nbformat_minor": 4
}
