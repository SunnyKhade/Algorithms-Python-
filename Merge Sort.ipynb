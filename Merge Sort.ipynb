{
 "cells": [
  {
   "cell_type": "markdown",
   "metadata": {},
   "source": [
    "### Merge Sort"
   ]
  },
  {
   "cell_type": "code",
   "execution_count": 3,
   "metadata": {},
   "outputs": [
    {
     "name": "stdout",
     "output_type": "stream",
     "text": [
      "left [99, 44, 6, 2, 1]\n",
      "right [5, 63, 87, 283, 4, 0]\n",
      "left [99, 44]\n",
      "right [6, 2, 1]\n",
      "left [99]\n",
      "right [44]\n",
      "[99] [44]\n",
      "[44, 99]\n",
      "left [6]\n",
      "right [2, 1]\n",
      "left [2]\n",
      "right [1]\n",
      "[2] [1]\n",
      "[1, 2]\n",
      "[6] [1, 2]\n",
      "[1, 2, 6]\n",
      "[44, 99] [1, 2, 6]\n",
      "[1, 2, 6, 44, 99]\n",
      "left [5, 63, 87]\n",
      "right [283, 4, 0]\n",
      "left [5]\n",
      "right [63, 87]\n",
      "left [63]\n",
      "right [87]\n",
      "[63] [87]\n",
      "[63, 87]\n",
      "[5] [63, 87]\n",
      "[5, 63, 87]\n",
      "left [283]\n",
      "right [4, 0]\n",
      "left [4]\n",
      "right [0]\n",
      "[4] [0]\n",
      "[0, 4]\n",
      "[283] [0, 4]\n",
      "[0, 4, 283]\n",
      "[5, 63, 87] [0, 4, 283]\n",
      "[0, 4, 5, 63, 87, 283]\n",
      "[1, 2, 6, 44, 99] [0, 4, 5, 63, 87, 283]\n",
      "[0, 1, 2, 4, 5, 6, 44, 63, 87, 99, 283]\n"
     ]
    }
   ],
   "source": [
    "def mergesort(arr):\n",
    "    if len(arr)==1:\n",
    "        return arr\n",
    "    \n",
    "    length = len(arr)\n",
    "    mid=length//2\n",
    "    left = arr[:mid]\n",
    "    right = arr[mid:]\n",
    "    print('left {}'.format(left))\n",
    "    print('right {}'.format(right))\n",
    "    \n",
    "    return merge(mergesort(left),mergesort(right))\n",
    "\n",
    "def merge(left,right):\n",
    "    result=[]\n",
    "    leftindex=0\n",
    "    rightindex=0\n",
    "    while leftindex<len(left) and rightindex<len(right):\n",
    "        if left[leftindex]<right[rightindex]:\n",
    "            result.append(left[leftindex])\n",
    "            leftindex+=1\n",
    "        else:\n",
    "            result.append(right[rightindex])\n",
    "            rightindex+=1\n",
    "    print(left,right)\n",
    "    print(result+left[leftindex:]+right[rightindex:])\n",
    "    return result+left[leftindex:]+right[rightindex:]\n",
    "\n",
    "arr = [99,44,6,2,1,5,63,87,283,4,0]\n",
    "m = mergesort(arr)\n"
   ]
  }
 ],
 "metadata": {
  "kernelspec": {
   "display_name": "Python 3",
   "language": "python",
   "name": "python3"
  },
  "language_info": {
   "codemirror_mode": {
    "name": "ipython",
    "version": 3
   },
   "file_extension": ".py",
   "mimetype": "text/x-python",
   "name": "python",
   "nbconvert_exporter": "python",
   "pygments_lexer": "ipython3",
   "version": "3.8.3"
  }
 },
 "nbformat": 4,
 "nbformat_minor": 4
}
