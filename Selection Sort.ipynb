{
 "cells": [
  {
   "cell_type": "markdown",
   "metadata": {},
   "source": [
    "### Selection Sort"
   ]
  },
  {
   "cell_type": "code",
   "execution_count": 12,
   "metadata": {},
   "outputs": [
    {
     "name": "stdout",
     "output_type": "stream",
     "text": [
      "[0, 2, 3, 4, 5, 6, 8]\n"
     ]
    }
   ],
   "source": [
    "def selectionsort(arr):\n",
    "    i = 0\n",
    "    while i < len(arr):\n",
    "        min = arr[i]\n",
    "        index = i\n",
    "        for j in range(i+1,len(arr)):\n",
    "            if arr[j] < min:\n",
    "                index = j\n",
    "                min = arr[j]\n",
    "        arr[i] , arr[index] = arr[index] , arr[i]\n",
    "        i += 1\n",
    "  \n",
    "    return arr\n",
    "\n",
    "arr = [8,6,5,0,4,3,2]\n",
    "print(selectionsort(arr))"
   ]
  }
 ],
 "metadata": {
  "kernelspec": {
   "display_name": "Python 3",
   "language": "python",
   "name": "python3"
  },
  "language_info": {
   "codemirror_mode": {
    "name": "ipython",
    "version": 3
   },
   "file_extension": ".py",
   "mimetype": "text/x-python",
   "name": "python",
   "nbconvert_exporter": "python",
   "pygments_lexer": "ipython3",
   "version": "3.8.3"
  }
 },
 "nbformat": 4,
 "nbformat_minor": 4
}
