{
 "cells": [
  {
   "cell_type": "markdown",
   "metadata": {},
   "source": [
    "### Quick Sort"
   ]
  },
  {
   "cell_type": "code",
   "execution_count": 1,
   "metadata": {},
   "outputs": [
    {
     "name": "stdout",
     "output_type": "stream",
     "text": [
      "[0, 1, 2, 4, 5, 6, 44, 63, 87, 99, 283]\n"
     ]
    }
   ],
   "source": [
    "def quicksort(array,left,right):\n",
    "    ln = len(array)\n",
    "    if left < right:\n",
    "        pivot = right\n",
    "        partitionindex = partition(array, pivot, left, right)\n",
    "\n",
    "        quicksort(array, left, partitionindex -1)\n",
    "        quicksort(array, partitionindex +1, right)\n",
    "    return array\n",
    "\n",
    "def partition(array, pivot, left, right):\n",
    "    pivotvalue = array[pivot]\n",
    "    partitionindex = left\n",
    "\n",
    "    for i in range(left,right):\n",
    "        if array[i] < pivotvalue:\n",
    "            swap(array, i, partitionindex)\n",
    "            partitionindex += 1\n",
    "\n",
    "    swap(array, right, partitionindex)\n",
    "    return partitionindex\n",
    "\n",
    "def swap(array, firstindex, secondindex):\n",
    "    temp = array[firstindex]\n",
    "    array[firstindex] = array[secondindex]\n",
    "    array[secondindex] = temp\n",
    "\n",
    "\n",
    "numbers = [99, 44, 6, 2, 1, 5, 63, 87, 283, 4, 0]\n",
    "print(quicksort(numbers,0,len(numbers)-1))"
   ]
  },
  {
   "cell_type": "code",
   "execution_count": null,
   "metadata": {},
   "outputs": [],
   "source": []
  }
 ],
 "metadata": {
  "kernelspec": {
   "display_name": "Python 3",
   "language": "python",
   "name": "python3"
  },
  "language_info": {
   "codemirror_mode": {
    "name": "ipython",
    "version": 3
   },
   "file_extension": ".py",
   "mimetype": "text/x-python",
   "name": "python",
   "nbconvert_exporter": "python",
   "pygments_lexer": "ipython3",
   "version": "3.8.3"
  }
 },
 "nbformat": 4,
 "nbformat_minor": 4
}
