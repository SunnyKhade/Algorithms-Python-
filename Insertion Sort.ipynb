{
 "cells": [
  {
   "cell_type": "markdown",
   "metadata": {},
   "source": [
    "### Insertion Sort"
   ]
  },
  {
   "cell_type": "code",
   "execution_count": 2,
   "metadata": {},
   "outputs": [
    {
     "data": {
      "text/plain": [
       "[0, 1, 3, 3, 5, 7, 9]"
      ]
     },
     "execution_count": 2,
     "metadata": {},
     "output_type": "execute_result"
    }
   ],
   "source": [
    "def insertionsort(arr):\n",
    "    length=len(arr)\n",
    "    end=arr[0]\n",
    "    i=0\n",
    "    while i<length:\n",
    "        if arr[i]<end:\n",
    "            x=arr.pop(i)\n",
    "            for j in range(0,i):\n",
    "                if x<arr[j]:\n",
    "                    arr.insert(j,x)\n",
    "                    break\n",
    "        end=arr[i]\n",
    "        i+=1\n",
    "    return arr\n",
    "\n",
    "arr = [7,5,3,9,1,0,3]\n",
    "insertionsort(arr)"
   ]
  }
 ],
 "metadata": {
  "kernelspec": {
   "display_name": "Python 3",
   "language": "python",
   "name": "python3"
  },
  "language_info": {
   "codemirror_mode": {
    "name": "ipython",
    "version": 3
   },
   "file_extension": ".py",
   "mimetype": "text/x-python",
   "name": "python",
   "nbconvert_exporter": "python",
   "pygments_lexer": "ipython3",
   "version": "3.8.3"
  }
 },
 "nbformat": 4,
 "nbformat_minor": 4
}
