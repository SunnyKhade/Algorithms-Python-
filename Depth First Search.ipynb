{
 "cells": [
  {
   "cell_type": "markdown",
   "metadata": {},
   "source": [
    "### Depth First Search"
   ]
  },
  {
   "cell_type": "code",
   "execution_count": 3,
   "metadata": {},
   "outputs": [
    {
     "name": "stdout",
     "output_type": "stream",
     "text": [
      "Inorder: [1, 4, 6, 9, 15, 20, 170]\n",
      "Preorder: [9, 4, 1, 6, 20, 15, 170]\n",
      "Postorder: [1, 6, 4, 15, 170, 20, 9]\n"
     ]
    }
   ],
   "source": [
    "class Node:\n",
    "    def __init__(self,val):\n",
    "        self.val = val\n",
    "        self.left = None\n",
    "        self.right = None\n",
    "\n",
    "class BinarySearchTree:\n",
    "    def __init__(self):\n",
    "        self.root = None\n",
    "  \n",
    "    def insert(self,val):\n",
    "        new_node = Node(val)\n",
    "        if self.root == None:\n",
    "            self.root = new_node\n",
    "            return \n",
    "        temp = self.root\n",
    "        while True:\n",
    "            if new_node.val < temp.val:\n",
    "                if temp.left == None:\n",
    "                    temp.left = new_node\n",
    "                    break\n",
    "                else:\n",
    "                    temp = temp.left\n",
    "            elif new_node.val > temp.val:\n",
    "                if temp.right == None:\n",
    "                    temp.right = new_node\n",
    "                    break\n",
    "                else:\n",
    "                    temp = temp.right\n",
    "\n",
    "    def lookup(self,val):\n",
    "        temp = self.root\n",
    "        while True:\n",
    "            if temp.val == val:\n",
    "                return True\n",
    "            elif temp == None:\n",
    "                return False\n",
    "            elif val < temp.val:\n",
    "                temp = temp.left\n",
    "            elif val > temp.val:\n",
    "                temp = temp.right\n",
    "                \n",
    "    def inorder(self,currnode,mylist):\n",
    "        if currnode!=None:\n",
    "            self.inorder(currnode.left,mylist)\n",
    "            mylist.append(currnode.val)\n",
    "            self.inorder(currnode.right,mylist)\n",
    "        return mylist\n",
    "        \n",
    "    def preorder(self,currnode,mylist):\n",
    "        if currnode!=None:\n",
    "            mylist.append(currnode.val)\n",
    "            self.preorder(currnode.left,mylist)\n",
    "            self.preorder(currnode.right,mylist)\n",
    "        return mylist\n",
    "        \n",
    "    def postorder(self,currnode,mylist):\n",
    "        if currnode.left:\n",
    "            self.postorder(currnode.left,mylist)\n",
    "        if currnode.right:\n",
    "            self.postorder(currnode.right,mylist)\n",
    "        mylist.append(currnode.val)\n",
    "        return mylist\n",
    "        \n",
    "    \n",
    "bst = BinarySearchTree()\n",
    "bst.insert(9)\n",
    "bst.insert(4)\n",
    "bst.insert(6)\n",
    "bst.insert(20)\n",
    "bst.insert(170)\n",
    "bst.insert(15)\n",
    "bst.insert(1)  \n",
    "\n",
    "print('Inorder:', bst.inorder(bst.root,[]))\n",
    "print('Preorder:', bst.preorder(bst.root,[]))\n",
    "print('Postorder:', bst.postorder(bst.root,[]))"
   ]
  }
 ],
 "metadata": {
  "kernelspec": {
   "display_name": "Python 3",
   "language": "python",
   "name": "python3"
  },
  "language_info": {
   "codemirror_mode": {
    "name": "ipython",
    "version": 3
   },
   "file_extension": ".py",
   "mimetype": "text/x-python",
   "name": "python",
   "nbconvert_exporter": "python",
   "pygments_lexer": "ipython3",
   "version": "3.8.3"
  }
 },
 "nbformat": 4,
 "nbformat_minor": 4
}
