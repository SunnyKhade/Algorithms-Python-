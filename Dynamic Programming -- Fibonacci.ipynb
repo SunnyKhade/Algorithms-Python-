{
 "cells": [
  {
   "cell_type": "markdown",
   "metadata": {},
   "source": [
    "### Fibonacci using Dynamic Programming"
   ]
  },
  {
   "cell_type": "code",
   "execution_count": 4,
   "metadata": {},
   "outputs": [
    {
     "name": "stdout",
     "output_type": "stream",
     "text": [
      "21\n",
      "987\n",
      "46368\n"
     ]
    }
   ],
   "source": [
    "cache = {}\n",
    "\n",
    "def fiboDP(n):\n",
    "    if n in cache:\n",
    "        return cache[n]\n",
    "    elif n < 2:\n",
    "        cache[n] = n\n",
    "        return cache[n]\n",
    "    else:\n",
    "        cache[n] = fiboDP(n-1)+fiboDP(n-2)\n",
    "        return cache[n]\n",
    "    \n",
    "print(fiboDP(8))\n",
    "print(fiboDP(16))\n",
    "print(fiboDP(24))"
   ]
  },
  {
   "cell_type": "markdown",
   "metadata": {},
   "source": [
    "### Using lru_cache"
   ]
  },
  {
   "cell_type": "code",
   "execution_count": 6,
   "metadata": {},
   "outputs": [
    {
     "name": "stdout",
     "output_type": "stream",
     "text": [
      "55\n",
      "6765\n",
      "CacheInfo(hits=19, misses=21, maxsize=1000, currsize=21)\n"
     ]
    }
   ],
   "source": [
    "from functools import lru_cache\n",
    "@lru_cache(maxsize = 1000)\n",
    "\n",
    "def fib(n):\n",
    "    if n<2:\n",
    "        return n\n",
    "    else:\n",
    "        return fib(n-1)+fib(n-2)\n",
    "    \n",
    "print(fib(10))\n",
    "print(fib(20))\n",
    "print(fib.cache_info())"
   ]
  }
 ],
 "metadata": {
  "kernelspec": {
   "display_name": "Python 3",
   "language": "python",
   "name": "python3"
  },
  "language_info": {
   "codemirror_mode": {
    "name": "ipython",
    "version": 3
   },
   "file_extension": ".py",
   "mimetype": "text/x-python",
   "name": "python",
   "nbconvert_exporter": "python",
   "pygments_lexer": "ipython3",
   "version": "3.8.3"
  }
 },
 "nbformat": 4,
 "nbformat_minor": 4
}
